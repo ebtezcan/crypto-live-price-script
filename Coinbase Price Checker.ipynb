{
 "cells": [
  {
   "cell_type": "markdown",
   "metadata": {},
   "source": [
    "# Outline of Script\n",
    "\n",
    "- Get user input on cryptocurrency tickers that the user wants to see the price information for.\n",
    "- Get user input on what currency they would like to see this information.\n",
    "- Access Coinbase to receive latest price of chosen cryptocurrencies in the chosen currency.\n",
    "- Parse results into a dictionary.\n"
   ]
  },
  {
   "cell_type": "code",
   "execution_count": 9,
   "metadata": {
    "ExecuteTime": {
     "end_time": "2021-12-05T04:29:56.817826Z",
     "start_time": "2021-12-05T04:29:56.806831Z"
    }
   },
   "outputs": [],
   "source": [
    "import requests\n",
    "import pandas as pd\n",
    "import json"
   ]
  },
  {
   "cell_type": "markdown",
   "metadata": {},
   "source": [
    "By default, the script will retrieve price information for Bitcoin (BTC) and Ethereum (ETH) in US Dollars (USD). For custom input, set custom_input to True in the below cell."
   ]
  },
  {
   "cell_type": "code",
   "execution_count": 10,
   "metadata": {
    "ExecuteTime": {
     "end_time": "2021-12-05T04:29:56.832818Z",
     "start_time": "2021-12-05T04:29:56.819826Z"
    }
   },
   "outputs": [],
   "source": [
    "#set to True for custom tickers and currencies.\n",
    "custom_input = False"
   ]
  },
  {
   "cell_type": "code",
   "execution_count": 11,
   "metadata": {
    "ExecuteTime": {
     "end_time": "2021-12-05T04:29:56.848810Z",
     "start_time": "2021-12-05T04:29:56.835815Z"
    }
   },
   "outputs": [],
   "source": [
    "#ask user which cryptocurrencies they would like to see the price for\n",
    "user_request = {}\n",
    "if custom_input == True:\n",
    "    cryptos_requested = input('Which cryptocurrencies would you like to see the price for? Please separate ticker symbols with commas.')\n",
    "    #separate tickers\n",
    "    user_request['tickers'] = cryptos_requested.split(',')\n",
    "    #strip any spaces after commas\n",
    "    user_request['tickers'] = [c.strip() for c in user_request['tickers']]\n",
    "    #ask user which currency to show the prices in\n",
    "    user_request['currency'] = input('Which currency would you like to see these prices in?')\n",
    "else:\n",
    "    user_request['tickers'] = ['BTC', 'ETH']\n",
    "    user_request['currency'] = 'USD'"
   ]
  },
  {
   "cell_type": "code",
   "execution_count": 12,
   "metadata": {
    "ExecuteTime": {
     "end_time": "2021-12-05T04:29:56.864799Z",
     "start_time": "2021-12-05T04:29:56.850806Z"
    }
   },
   "outputs": [],
   "source": [
    "user_request['currency_pairs'] = ['-'.join([ticker, user_request['currency']])\\\n",
    "                                for ticker in user_request['tickers']]"
   ]
  },
  {
   "cell_type": "code",
   "execution_count": 13,
   "metadata": {
    "ExecuteTime": {
     "end_time": "2021-12-05T04:29:56.880790Z",
     "start_time": "2021-12-05T04:29:56.866798Z"
    }
   },
   "outputs": [
    {
     "data": {
      "text/plain": [
       "['BTC-USD', 'ETH-USD']"
      ]
     },
     "execution_count": 13,
     "metadata": {},
     "output_type": "execute_result"
    }
   ],
   "source": [
    "user_request['currency_pairs']"
   ]
  },
  {
   "cell_type": "code",
   "execution_count": 14,
   "metadata": {
    "ExecuteTime": {
     "end_time": "2021-12-05T04:29:57.133411Z",
     "start_time": "2021-12-05T04:29:56.882787Z"
    }
   },
   "outputs": [],
   "source": [
    "#creating a dataframe for results\n",
    "user_request['results'] = {}\n",
    "\n",
    "for pair in user_request['currency_pairs']:\n",
    "    price = requests.get(f\"https://api.coinbase.com/v2/prices/{pair}/spot\")\n",
    "    user_request['results'][f\"{price.json()['data']['base']}\"]=price.json()['data']['amount']"
   ]
  },
  {
   "cell_type": "code",
   "execution_count": 25,
   "metadata": {
    "ExecuteTime": {
     "end_time": "2021-12-05T04:36:19.049206Z",
     "start_time": "2021-12-05T04:36:19.036214Z"
    }
   },
   "outputs": [
    {
     "name": "stdout",
     "output_type": "stream",
     "text": [
      "Current BTC Price: $49,085.31\n",
      "Current ETH Price: $4,160.53\n"
     ]
    }
   ],
   "source": [
    "print(\"Current BTC Price: \" + \"${:,.2f}\".format(float(user_request['results']['BTC'])))\n",
    "print(\"Current ETH Price: \" + \"${:,.2f}\".format(float(user_request['results']['ETH'])))"
   ]
  },
  {
   "cell_type": "code",
   "execution_count": null,
   "metadata": {},
   "outputs": [],
   "source": []
  }
 ],
 "metadata": {
  "kernelspec": {
   "display_name": "learn-env",
   "language": "python",
   "name": "learn-env"
  },
  "language_info": {
   "codemirror_mode": {
    "name": "ipython",
    "version": 3
   },
   "file_extension": ".py",
   "mimetype": "text/x-python",
   "name": "python",
   "nbconvert_exporter": "python",
   "pygments_lexer": "ipython3",
   "version": "3.8.5"
  },
  "toc": {
   "base_numbering": 1,
   "nav_menu": {},
   "number_sections": true,
   "sideBar": true,
   "skip_h1_title": true,
   "title_cell": "Table of Contents",
   "title_sidebar": "Contents",
   "toc_cell": false,
   "toc_position": {},
   "toc_section_display": true,
   "toc_window_display": false
  }
 },
 "nbformat": 4,
 "nbformat_minor": 4
}
