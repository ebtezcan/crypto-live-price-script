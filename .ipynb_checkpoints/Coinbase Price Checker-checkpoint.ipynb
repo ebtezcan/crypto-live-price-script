{
 "cells": [
  {
   "cell_type": "markdown",
   "metadata": {},
   "source": [
    "# Outline of Script\n",
    "\n",
    "- Get user input on cryptocurrency tickers that the user wants to see the price information for.\n",
    "- Get user input on what currency they would like to see this information.\n",
    "- Access Coinbase to receive latest price of chosen cryptocurrencies in the chosen currency.\n",
    "- Parse results into a dictionary.\n"
   ]
  },
  {
   "cell_type": "code",
   "execution_count": 2,
   "metadata": {
    "ExecuteTime": {
     "end_time": "2021-12-05T04:27:15.849939Z",
     "start_time": "2021-12-05T04:27:15.278075Z"
    }
   },
   "outputs": [],
   "source": [
    "import requests\n",
    "import pandas as pd\n",
    "import json"
   ]
  },
  {
   "cell_type": "markdown",
   "metadata": {},
   "source": [
    "By default, the script will retrieve price information for Bitcoin (BTC) and Ethereum (ETH) in US Dollars (USD). For custom input, set custom_input to True in the below cell."
   ]
  },
  {
   "cell_type": "code",
   "execution_count": 3,
   "metadata": {
    "ExecuteTime": {
     "end_time": "2021-12-05T04:27:15.865915Z",
     "start_time": "2021-12-05T04:27:15.850924Z"
    }
   },
   "outputs": [],
   "source": [
    "#set to True for custom tickers and currencies.\n",
    "custom_input = False"
   ]
  },
  {
   "cell_type": "code",
   "execution_count": 4,
   "metadata": {
    "ExecuteTime": {
     "end_time": "2021-12-05T04:27:15.881906Z",
     "start_time": "2021-12-05T04:27:15.867913Z"
    }
   },
   "outputs": [],
   "source": [
    "#ask user which cryptocurrencies they would like to see the price for\n",
    "user_request = {}\n",
    "if custom_input == True:\n",
    "    cryptos_requested = input('Which cryptocurrencies would you like to see the price for? Please separate ticker symbols with commas.')\n",
    "    #separate tickers\n",
    "    user_request['tickers'] = cryptos_requested.split(',')\n",
    "    #strip any spaces after commas\n",
    "    user_request['tickers'] = [c.strip() for c in user_request['tickers']]\n",
    "    #ask user which currency to show the prices in\n",
    "    user_request['currency'] = input('Which currency would you like to see these prices in?')\n",
    "else:\n",
    "    user_request['tickers'] = ['BTC', 'ETH']\n",
    "    user_request['currency'] = 'USD'"
   ]
  },
  {
   "cell_type": "code",
   "execution_count": 5,
   "metadata": {
    "ExecuteTime": {
     "end_time": "2021-12-05T04:27:15.897896Z",
     "start_time": "2021-12-05T04:27:15.883906Z"
    }
   },
   "outputs": [],
   "source": [
    "user_request['currency_pairs'] = ['-'.join([ticker, user_request['currency']])\\\n",
    "                                for ticker in user_request['tickers']]"
   ]
  },
  {
   "cell_type": "code",
   "execution_count": 6,
   "metadata": {
    "ExecuteTime": {
     "end_time": "2021-12-05T04:27:15.913888Z",
     "start_time": "2021-12-05T04:27:15.899896Z"
    }
   },
   "outputs": [
    {
     "data": {
      "text/plain": [
       "['BTC-USD', 'ETH-USD']"
      ]
     },
     "execution_count": 6,
     "metadata": {},
     "output_type": "execute_result"
    }
   ],
   "source": [
    "user_request['currency_pairs']"
   ]
  },
  {
   "cell_type": "code",
   "execution_count": 7,
   "metadata": {
    "ExecuteTime": {
     "end_time": "2021-12-05T04:27:16.149979Z",
     "start_time": "2021-12-05T04:27:15.915886Z"
    }
   },
   "outputs": [],
   "source": [
    "#creating a dataframe for results\n",
    "user_request['results'] = {}\n",
    "\n",
    "for pair in user_request['currency_pairs']:\n",
    "    price = requests.get(f\"https://api.coinbase.com/v2/prices/{pair}/spot\")\n",
    "    user_request['results'][f\"{price.json()['data']['base']}\"]=price.json()['data']['amount']"
   ]
  },
  {
   "cell_type": "code",
   "execution_count": 8,
   "metadata": {
    "ExecuteTime": {
     "end_time": "2021-12-05T04:27:16.166030Z",
     "start_time": "2021-12-05T04:27:16.152040Z"
    }
   },
   "outputs": [
    {
     "name": "stdout",
     "output_type": "stream",
     "text": [
      "Current BTC Price: 49000.48\n",
      "Current ETH Price: 4150.33\n"
     ]
    }
   ],
   "source": [
    "print(f\"Current BTC Price: ${user_request['results']['BTC']}\")\n",
    "print(f\"Current ETH Price: ${user_request['results']['ETH']}\")"
   ]
  },
  {
   "cell_type": "code",
   "execution_count": null,
   "metadata": {},
   "outputs": [],
   "source": []
  }
 ],
 "metadata": {
  "kernelspec": {
   "display_name": "learn-env",
   "language": "python",
   "name": "learn-env"
  },
  "language_info": {
   "codemirror_mode": {
    "name": "ipython",
    "version": 3
   },
   "file_extension": ".py",
   "mimetype": "text/x-python",
   "name": "python",
   "nbconvert_exporter": "python",
   "pygments_lexer": "ipython3",
   "version": "3.8.5"
  },
  "toc": {
   "base_numbering": 1,
   "nav_menu": {},
   "number_sections": true,
   "sideBar": true,
   "skip_h1_title": true,
   "title_cell": "Table of Contents",
   "title_sidebar": "Contents",
   "toc_cell": false,
   "toc_position": {},
   "toc_section_display": true,
   "toc_window_display": false
  }
 },
 "nbformat": 4,
 "nbformat_minor": 4
}
