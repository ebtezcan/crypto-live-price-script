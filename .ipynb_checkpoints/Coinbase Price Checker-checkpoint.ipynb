{
 "cells": [
  {
   "cell_type": "markdown",
   "metadata": {},
   "source": [
    "# Outline of Script\n",
    "\n",
    "- Get user input on cryptocurrency tickers that the user wants to see the price information for.\n",
    "- Get user input on what currency they would like to see this information.\n",
    "- Access Coinbase to receive latest price of chosen cryptocurrencies in the chosen currency.\n",
    "- Parse results into a dictionary.\n"
   ]
  },
  {
   "cell_type": "code",
   "execution_count": 1,
   "metadata": {
    "ExecuteTime": {
     "end_time": "2021-12-05T14:33:21.235980Z",
     "start_time": "2021-12-05T14:33:20.644014Z"
    }
   },
   "outputs": [],
   "source": [
    "import requests\n",
    "import pandas as pd\n",
    "import json\n",
    "from currency_symbols import CurrencySymbols"
   ]
  },
  {
   "cell_type": "markdown",
   "metadata": {},
   "source": [
    "By default, the script will retrieve price information for Bitcoin (BTC) and Ethereum (ETH) in US Dollars (USD). For custom input, set custom_input to True in the below cell."
   ]
  },
  {
   "cell_type": "code",
   "execution_count": 2,
   "metadata": {
    "ExecuteTime": {
     "end_time": "2021-12-05T14:33:21.251919Z",
     "start_time": "2021-12-05T14:33:21.237927Z"
    }
   },
   "outputs": [],
   "source": [
    "#set to True for custom tickers and currencies.\n",
    "custom_input = True"
   ]
  },
  {
   "cell_type": "code",
   "execution_count": 3,
   "metadata": {
    "ExecuteTime": {
     "end_time": "2021-12-05T14:33:32.896394Z",
     "start_time": "2021-12-05T14:33:21.256931Z"
    }
   },
   "outputs": [
    {
     "name": "stdout",
     "output_type": "stream",
     "text": [
      "Which cryptocurrencies would you like to see the price for? Please separate ticker symbols with commas.BTC, ETH, ADA, SOL\n",
      "Which currency would you like to see these prices in?USD\n"
     ]
    }
   ],
   "source": [
    "#ask user which cryptocurrencies they would like to see the price for\n",
    "user_request = {}\n",
    "if custom_input == True:\n",
    "    cryptos_requested = input('Which cryptocurrencies would you like to see the price for? Please separate ticker symbols with commas.')\n",
    "    #separate tickers\n",
    "    user_request['tickers'] = cryptos_requested.split(',')\n",
    "    #strip any spaces after commas\n",
    "    user_request['tickers'] = [c.strip() for c in user_request['tickers']]\n",
    "    #ask user which currency to show the prices in\n",
    "    user_request['currency'] = input('Which currency would you like to see these prices in?')\n",
    "else:\n",
    "    user_request['tickers'] = ['BTC', 'ETH']\n",
    "    user_request['currency'] = 'USD'"
   ]
  },
  {
   "cell_type": "code",
   "execution_count": 4,
   "metadata": {
    "ExecuteTime": {
     "end_time": "2021-12-05T14:33:32.912357Z",
     "start_time": "2021-12-05T14:33:32.898365Z"
    }
   },
   "outputs": [],
   "source": [
    "user_request['currency_pairs'] = ['-'.join([ticker, user_request['currency']])\\\n",
    "                                for ticker in user_request['tickers']]"
   ]
  },
  {
   "cell_type": "code",
   "execution_count": 5,
   "metadata": {
    "ExecuteTime": {
     "end_time": "2021-12-05T14:33:32.928346Z",
     "start_time": "2021-12-05T14:33:32.914354Z"
    }
   },
   "outputs": [
    {
     "data": {
      "text/plain": [
       "['BTC-USD', 'ETH-USD', 'ADA-USD', 'SOL-USD']"
      ]
     },
     "execution_count": 5,
     "metadata": {},
     "output_type": "execute_result"
    }
   ],
   "source": [
    "user_request['currency_pairs']"
   ]
  },
  {
   "cell_type": "code",
   "execution_count": 6,
   "metadata": {
    "ExecuteTime": {
     "end_time": "2021-12-05T14:33:32.944339Z",
     "start_time": "2021-12-05T14:33:32.931345Z"
    }
   },
   "outputs": [],
   "source": [
    "cur_symbol = CurrencySymbols.get_symbol(user_request['currency'])"
   ]
  },
  {
   "cell_type": "code",
   "execution_count": 7,
   "metadata": {
    "ExecuteTime": {
     "end_time": "2021-12-05T14:33:33.444730Z",
     "start_time": "2021-12-05T14:33:32.947337Z"
    }
   },
   "outputs": [],
   "source": [
    "#parsing prices into the dictionary\n",
    "user_request['results'] = {}\n",
    "\n",
    "for pair in user_request['currency_pairs']:\n",
    "    price = requests.get(f\"https://api.coinbase.com/v2/prices/{pair}/spot\")\n",
    "    user_request['results'][f\"{price.json()['data']['base']}\"]=price.json()['data']['amount']"
   ]
  },
  {
   "cell_type": "code",
   "execution_count": 8,
   "metadata": {
    "ExecuteTime": {
     "end_time": "2021-12-05T14:33:33.459726Z",
     "start_time": "2021-12-05T14:33:33.446733Z"
    }
   },
   "outputs": [
    {
     "name": "stdout",
     "output_type": "stream",
     "text": [
      "Current BTC Price: $49,087.13\n",
      "Current ETH Price: $4,162.12\n",
      "Current ADA Price: $1.35\n",
      "Current SOL Price: $193.28\n"
     ]
    }
   ],
   "source": [
    "for ticker, price in user_request['results'].items():\n",
    "    print(f\"Current {ticker} Price: \" + cur_symbol + \"{:,.2f}\".format(float(user_request['results'][ticker])))"
   ]
  }
 ],
 "metadata": {
  "kernelspec": {
   "display_name": "learn-env",
   "language": "python",
   "name": "learn-env"
  },
  "language_info": {
   "codemirror_mode": {
    "name": "ipython",
    "version": 3
   },
   "file_extension": ".py",
   "mimetype": "text/x-python",
   "name": "python",
   "nbconvert_exporter": "python",
   "pygments_lexer": "ipython3",
   "version": "3.8.5"
  },
  "toc": {
   "base_numbering": 1,
   "nav_menu": {},
   "number_sections": true,
   "sideBar": true,
   "skip_h1_title": true,
   "title_cell": "Table of Contents",
   "title_sidebar": "Contents",
   "toc_cell": false,
   "toc_position": {},
   "toc_section_display": true,
   "toc_window_display": false
  }
 },
 "nbformat": 4,
 "nbformat_minor": 4
}
